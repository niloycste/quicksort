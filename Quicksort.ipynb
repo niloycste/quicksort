{
 "cells": [
  {
   "cell_type": "markdown",
   "metadata": {},
   "source": [
    "#def a function for finding out pivot position"
   ]
  },
  {
   "cell_type": "code",
   "execution_count": null,
   "metadata": {},
   "outputs": [],
   "source": [
    "def pivot_place(list,first,last):\n",
    "    pivot=list[first]\n",
    "    left=first+1\n",
    "    right=last\n",
    "    while True:\n",
    "    \n",
    "        while left<=right and list[left]<=pivot:\n",
    "            left=left+1\n",
    "        \n",
    "        while left<=right and list[right]>=pivot:\n",
    "             right=right-1\n",
    "       \n",
    "        if left>right:  \n",
    "            break\n",
    "        else:\n",
    "            list[left],list[right]=list[right],list[left]\n",
    "        list[first],list[right]=list[right],list[first]\n",
    "        return right\n",
    "#def quicksort function for divide and conquer\n",
    "\n",
    "def quicksort(list,first,last):\n",
    "     if first<last:\n",
    "           \n",
    "            \n",
    "           \n",
    "        \n",
    "            p=pivot_place(list,first,last)\n",
    "            quicksort(list,first,p-1)\n",
    "            quicksort(list,p+1,last)\n",
    "   \n",
    "        \n",
    "    \n",
    "#main function for execuating    \n",
    "list= [29,99,27,41,66,28,44,78,87,19,31,76,58,88,83,97,12,21,44]\n",
    "n=len(list)\n",
    "\n",
    "quicksort(list, 0, n - 1)\n",
    "print(\"sorted list is: \", list)\n",
    "\n",
    "    "
   ]
  }
 ],
 "metadata": {
  "kernelspec": {
   "display_name": "Python 3",
   "language": "python",
   "name": "python3"
  },
  "language_info": {
   "codemirror_mode": {
    "name": "ipython",
    "version": 3
   },
   "file_extension": ".py",
   "mimetype": "text/x-python",
   "name": "python",
   "nbconvert_exporter": "python",
   "pygments_lexer": "ipython3",
   "version": "3.7.4"
  }
 },
 "nbformat": 4,
 "nbformat_minor": 2
}
